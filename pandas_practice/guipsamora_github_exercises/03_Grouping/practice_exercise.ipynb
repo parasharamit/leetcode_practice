{
 "cells": [
  {
   "cell_type": "code",
   "execution_count": 45,
   "metadata": {},
   "outputs": [],
   "source": [
    "import pandas as pd"
   ]
  },
  {
   "cell_type": "code",
   "execution_count": 6,
   "metadata": {},
   "outputs": [
    {
     "data": {
      "text/html": [
       "<div>\n",
       "<style scoped>\n",
       "    .dataframe tbody tr th:only-of-type {\n",
       "        vertical-align: middle;\n",
       "    }\n",
       "\n",
       "    .dataframe tbody tr th {\n",
       "        vertical-align: top;\n",
       "    }\n",
       "\n",
       "    .dataframe thead th {\n",
       "        text-align: right;\n",
       "    }\n",
       "</style>\n",
       "<table border=\"1\" class=\"dataframe\">\n",
       "  <thead>\n",
       "    <tr style=\"text-align: right;\">\n",
       "      <th></th>\n",
       "      <th>country</th>\n",
       "      <th>beer_servings</th>\n",
       "      <th>spirit_servings</th>\n",
       "      <th>wine_servings</th>\n",
       "      <th>total_litres_of_pure_alcohol</th>\n",
       "      <th>continent</th>\n",
       "    </tr>\n",
       "  </thead>\n",
       "  <tbody>\n",
       "    <tr>\n",
       "      <th>0</th>\n",
       "      <td>Afghanistan</td>\n",
       "      <td>0</td>\n",
       "      <td>0</td>\n",
       "      <td>0</td>\n",
       "      <td>0.0</td>\n",
       "      <td>AS</td>\n",
       "    </tr>\n",
       "    <tr>\n",
       "      <th>1</th>\n",
       "      <td>Albania</td>\n",
       "      <td>89</td>\n",
       "      <td>132</td>\n",
       "      <td>54</td>\n",
       "      <td>4.9</td>\n",
       "      <td>EU</td>\n",
       "    </tr>\n",
       "    <tr>\n",
       "      <th>2</th>\n",
       "      <td>Algeria</td>\n",
       "      <td>25</td>\n",
       "      <td>0</td>\n",
       "      <td>14</td>\n",
       "      <td>0.7</td>\n",
       "      <td>AF</td>\n",
       "    </tr>\n",
       "    <tr>\n",
       "      <th>3</th>\n",
       "      <td>Andorra</td>\n",
       "      <td>245</td>\n",
       "      <td>138</td>\n",
       "      <td>312</td>\n",
       "      <td>12.4</td>\n",
       "      <td>EU</td>\n",
       "    </tr>\n",
       "    <tr>\n",
       "      <th>4</th>\n",
       "      <td>Angola</td>\n",
       "      <td>217</td>\n",
       "      <td>57</td>\n",
       "      <td>45</td>\n",
       "      <td>5.9</td>\n",
       "      <td>AF</td>\n",
       "    </tr>\n",
       "  </tbody>\n",
       "</table>\n",
       "</div>"
      ],
      "text/plain": [
       "       country  beer_servings  spirit_servings  wine_servings  \\\n",
       "0  Afghanistan              0                0              0   \n",
       "1      Albania             89              132             54   \n",
       "2      Algeria             25                0             14   \n",
       "3      Andorra            245              138            312   \n",
       "4       Angola            217               57             45   \n",
       "\n",
       "   total_litres_of_pure_alcohol continent  \n",
       "0                           0.0        AS  \n",
       "1                           4.9        EU  \n",
       "2                           0.7        AF  \n",
       "3                          12.4        EU  \n",
       "4                           5.9        AF  "
      ]
     },
     "execution_count": 6,
     "metadata": {},
     "output_type": "execute_result"
    }
   ],
   "source": [
    "drinks = pd.read_csv('./drinks.csv')\n",
    "drinks.head()"
   ]
  },
  {
   "cell_type": "code",
   "execution_count": 46,
   "metadata": {},
   "outputs": [
    {
     "data": {
      "text/plain": [
       "continent\n",
       "AF     61.471698\n",
       "AS     37.045455\n",
       "EU    193.777778\n",
       "OC     89.687500\n",
       "SA    175.083333\n",
       "Name: beer_servings, dtype: float64"
      ]
     },
     "execution_count": 46,
     "metadata": {},
     "output_type": "execute_result"
    }
   ],
   "source": [
    "drinks.groupby('continent')['beer_servings'].mean()"
   ]
  },
  {
   "cell_type": "code",
   "execution_count": 47,
   "metadata": {},
   "outputs": [
    {
     "data": {
      "text/html": [
       "<div>\n",
       "<style scoped>\n",
       "    .dataframe tbody tr th:only-of-type {\n",
       "        vertical-align: middle;\n",
       "    }\n",
       "\n",
       "    .dataframe tbody tr th {\n",
       "        vertical-align: top;\n",
       "    }\n",
       "\n",
       "    .dataframe thead th {\n",
       "        text-align: right;\n",
       "    }\n",
       "</style>\n",
       "<table border=\"1\" class=\"dataframe\">\n",
       "  <thead>\n",
       "    <tr style=\"text-align: right;\">\n",
       "      <th></th>\n",
       "      <th>beer_mean_consumption</th>\n",
       "    </tr>\n",
       "    <tr>\n",
       "      <th>continent</th>\n",
       "      <th></th>\n",
       "    </tr>\n",
       "  </thead>\n",
       "  <tbody>\n",
       "    <tr>\n",
       "      <th>EU</th>\n",
       "      <td>193.777778</td>\n",
       "    </tr>\n",
       "  </tbody>\n",
       "</table>\n",
       "</div>"
      ],
      "text/plain": [
       "           beer_mean_consumption\n",
       "continent                       \n",
       "EU                    193.777778"
      ]
     },
     "execution_count": 47,
     "metadata": {},
     "output_type": "execute_result"
    }
   ],
   "source": [
    "drinks.groupby('continent').agg(beer_mean_consumption=('beer_servings','mean')).sort_values('beer_mean_consumption', ascending=False).head(1)\n"
   ]
  },
  {
   "cell_type": "code",
   "execution_count": null,
   "metadata": {},
   "outputs": [],
   "source": [
    "drinks.groupby('continent').agg({'beer_servings':'mean'}).sort_values('beer_servings', ascending=False).to_dict()"
   ]
  },
  {
   "cell_type": "markdown",
   "metadata": {},
   "source": [
    "Step 5. For each continent print the statistics for wine consumption."
   ]
  },
  {
   "cell_type": "code",
   "execution_count": null,
   "metadata": {},
   "outputs": [],
   "source": [
    "drinks.groupby('continent')['wine_servings'].describe()"
   ]
  },
  {
   "cell_type": "code",
   "execution_count": null,
   "metadata": {},
   "outputs": [],
   "source": [
    "drinks.groupby('continent')['wine_servings']"
   ]
  },
  {
   "cell_type": "markdown",
   "metadata": {},
   "source": [
    "Step 6. Print the mean alcohol consumption per continent for every column"
   ]
  },
  {
   "cell_type": "code",
   "execution_count": null,
   "metadata": {},
   "outputs": [],
   "source": [
    "drinks.groupby('continent').agg(lambda x: x.mean())"
   ]
  },
  {
   "cell_type": "code",
   "execution_count": null,
   "metadata": {},
   "outputs": [],
   "source": [
    "drinks.groupby('continent').mean()"
   ]
  },
  {
   "cell_type": "code",
   "execution_count": null,
   "metadata": {},
   "outputs": [],
   "source": [
    "drinks.groupby('continent').agg({'country': 'size', 'beer_servings': ['sum', 'mean']})"
   ]
  },
  {
   "cell_type": "code",
   "execution_count": 9,
   "metadata": {},
   "outputs": [
    {
     "name": "stderr",
     "output_type": "stream",
     "text": [
      "/tmp/ipykernel_27908/2323432610.py:1: FutureWarning: ['country'] did not aggregate successfully. If any error is raised this will raise in a future version of pandas. Drop these columns/ops to avoid this warning.\n",
      "  drinks.groupby('continent').agg(lambda x: x.median())\n"
     ]
    },
    {
     "data": {
      "text/html": [
       "<div>\n",
       "<style scoped>\n",
       "    .dataframe tbody tr th:only-of-type {\n",
       "        vertical-align: middle;\n",
       "    }\n",
       "\n",
       "    .dataframe tbody tr th {\n",
       "        vertical-align: top;\n",
       "    }\n",
       "\n",
       "    .dataframe thead th {\n",
       "        text-align: right;\n",
       "    }\n",
       "</style>\n",
       "<table border=\"1\" class=\"dataframe\">\n",
       "  <thead>\n",
       "    <tr style=\"text-align: right;\">\n",
       "      <th></th>\n",
       "      <th>beer_servings</th>\n",
       "      <th>spirit_servings</th>\n",
       "      <th>wine_servings</th>\n",
       "      <th>total_litres_of_pure_alcohol</th>\n",
       "    </tr>\n",
       "    <tr>\n",
       "      <th>continent</th>\n",
       "      <th></th>\n",
       "      <th></th>\n",
       "      <th></th>\n",
       "      <th></th>\n",
       "    </tr>\n",
       "  </thead>\n",
       "  <tbody>\n",
       "    <tr>\n",
       "      <th>AF</th>\n",
       "      <td>32.0</td>\n",
       "      <td>3.0</td>\n",
       "      <td>2.0</td>\n",
       "      <td>2.30</td>\n",
       "    </tr>\n",
       "    <tr>\n",
       "      <th>AS</th>\n",
       "      <td>17.5</td>\n",
       "      <td>16.0</td>\n",
       "      <td>1.0</td>\n",
       "      <td>1.20</td>\n",
       "    </tr>\n",
       "    <tr>\n",
       "      <th>EU</th>\n",
       "      <td>219.0</td>\n",
       "      <td>122.0</td>\n",
       "      <td>128.0</td>\n",
       "      <td>10.00</td>\n",
       "    </tr>\n",
       "    <tr>\n",
       "      <th>OC</th>\n",
       "      <td>52.5</td>\n",
       "      <td>37.0</td>\n",
       "      <td>8.5</td>\n",
       "      <td>1.75</td>\n",
       "    </tr>\n",
       "    <tr>\n",
       "      <th>SA</th>\n",
       "      <td>162.5</td>\n",
       "      <td>108.5</td>\n",
       "      <td>12.0</td>\n",
       "      <td>6.85</td>\n",
       "    </tr>\n",
       "  </tbody>\n",
       "</table>\n",
       "</div>"
      ],
      "text/plain": [
       "           beer_servings  spirit_servings  wine_servings  \\\n",
       "continent                                                  \n",
       "AF                  32.0              3.0            2.0   \n",
       "AS                  17.5             16.0            1.0   \n",
       "EU                 219.0            122.0          128.0   \n",
       "OC                  52.5             37.0            8.5   \n",
       "SA                 162.5            108.5           12.0   \n",
       "\n",
       "           total_litres_of_pure_alcohol  \n",
       "continent                                \n",
       "AF                                 2.30  \n",
       "AS                                 1.20  \n",
       "EU                                10.00  \n",
       "OC                                 1.75  \n",
       "SA                                 6.85  "
      ]
     },
     "execution_count": 9,
     "metadata": {},
     "output_type": "execute_result"
    }
   ],
   "source": [
    "drinks.groupby('continent').agg(lambda x: x.median())"
   ]
  },
  {
   "cell_type": "code",
   "execution_count": null,
   "metadata": {},
   "outputs": [],
   "source": []
  },
  {
   "cell_type": "code",
   "execution_count": null,
   "metadata": {},
   "outputs": [],
   "source": []
  },
  {
   "cell_type": "markdown",
   "metadata": {},
   "source": [
    "Grouping Data: A Step-by-Step Tutorial to GroupBy in Pandas (https://www.kaggle.com/datasets/imdevskp/nobel-prize)"
   ]
  },
  {
   "cell_type": "code",
   "execution_count": 48,
   "metadata": {},
   "outputs": [],
   "source": [
    "import pandas as pd\n",
    "import numpy as np\n",
    "\n"
   ]
  },
  {
   "cell_type": "code",
   "execution_count": 13,
   "metadata": {},
   "outputs": [
    {
     "data": {
      "text/plain": [
       "'/home/afghani/afghani_root_dir/JobSearch/code_practice/python/leetcode_practice/pandas_practice/guipsamora_github_exercises/03_Grouping'"
      ]
     },
     "execution_count": 13,
     "metadata": {},
     "output_type": "execute_result"
    }
   ],
   "source": [
    "import os\n",
    "os.getcwd()"
   ]
  },
  {
   "cell_type": "code",
   "execution_count": 58,
   "metadata": {},
   "outputs": [],
   "source": [
    "nobel_df = pd.read_csv('../../practice_data/data_dir/NobelPrizeDataset/complete.csv')"
   ]
  },
  {
   "cell_type": "code",
   "execution_count": 59,
   "metadata": {},
   "outputs": [
    {
     "data": {
      "text/plain": [
       "Index(['awardYear', 'category', 'categoryFullName', 'sortOrder', 'portion',\n",
       "       'prizeAmount', 'prizeAmountAdjusted', 'dateAwarded', 'prizeStatus',\n",
       "       'motivation', 'categoryTopMotivation', 'award_link', 'id', 'name',\n",
       "       'knownName', 'givenName', 'familyName', 'fullName', 'penName', 'gender',\n",
       "       'laureate_link', 'birth_date', 'birth_city', 'birth_cityNow',\n",
       "       'birth_continent', 'birth_country', 'birth_countryNow',\n",
       "       'birth_locationString', 'death_date', 'death_city', 'death_cityNow',\n",
       "       'death_continent', 'death_country', 'death_countryNow',\n",
       "       'death_locationString', 'orgName', 'nativeName', 'acronym',\n",
       "       'org_founded_date', 'org_founded_city', 'org_founded_cityNow',\n",
       "       'org_founded_continent', 'org_founded_country',\n",
       "       'org_founded_countryNow', 'org_founded_locationString', 'ind_or_org',\n",
       "       'residence_1', 'residence_2', 'affiliation_1', 'affiliation_2',\n",
       "       'affiliation_3', 'affiliation_4'],\n",
       "      dtype='object')"
      ]
     },
     "execution_count": 59,
     "metadata": {},
     "output_type": "execute_result"
    }
   ],
   "source": [
    "nobel_df.columns"
   ]
  },
  {
   "cell_type": "code",
   "execution_count": 60,
   "metadata": {},
   "outputs": [],
   "source": [
    "selected_cols = ['awardYear', 'category', 'prizeAmount', 'prizeAmountAdjusted', 'name', 'gender', 'birth_continent']\n",
    "nobel_df1 = nobel_df[selected_cols].copy()"
   ]
  },
  {
   "cell_type": "code",
   "execution_count": 52,
   "metadata": {},
   "outputs": [
    {
     "data": {
      "text/plain": [
       "Index(['awardYear', 'category', 'prizeAmount', 'prizeAmountAdjusted', 'name',\n",
       "       'gender', 'birth_continent'],\n",
       "      dtype='object')"
      ]
     },
     "execution_count": 52,
     "metadata": {},
     "output_type": "execute_result"
    }
   ],
   "source": [
    "nobel_df1.columns\n"
   ]
  },
  {
   "cell_type": "code",
   "execution_count": 53,
   "metadata": {},
   "outputs": [
    {
     "data": {
      "text/plain": [
       "Index(['awardYear', 'category', 'categoryFullName', 'sortOrder', 'portion',\n",
       "       'prizeAmount', 'prizeAmountAdjusted', 'dateAwarded', 'prizeStatus',\n",
       "       'motivation', 'categoryTopMotivation', 'award_link', 'id', 'name',\n",
       "       'knownName', 'givenName', 'familyName', 'fullName', 'penName', 'gender',\n",
       "       'laureate_link', 'birth_date', 'birth_city', 'birth_cityNow',\n",
       "       'birth_continent', 'birth_country', 'birth_countryNow',\n",
       "       'birth_locationString', 'death_date', 'death_city', 'death_cityNow',\n",
       "       'death_continent', 'death_country', 'death_countryNow',\n",
       "       'death_locationString', 'orgName', 'nativeName', 'acronym',\n",
       "       'org_founded_date', 'org_founded_city', 'org_founded_cityNow',\n",
       "       'org_founded_continent', 'org_founded_country',\n",
       "       'org_founded_countryNow', 'org_founded_locationString', 'ind_or_org',\n",
       "       'residence_1', 'residence_2', 'affiliation_1', 'affiliation_2',\n",
       "       'affiliation_3', 'affiliation_4'],\n",
       "      dtype='object')"
      ]
     },
     "execution_count": 53,
     "metadata": {},
     "output_type": "execute_result"
    }
   ],
   "source": [
    "nobel_df.columns"
   ]
  },
  {
   "cell_type": "code",
   "execution_count": 39,
   "metadata": {},
   "outputs": [
    {
     "data": {
      "text/plain": [
       "0      20010\n",
       "1      19750\n",
       "2      20040\n",
       "3      19820\n",
       "4      19790\n",
       "       ...  \n",
       "945    19720\n",
       "946    19540\n",
       "947    19110\n",
       "948    19810\n",
       "949    19630\n",
       "Name: awardYear, Length: 950, dtype: int64"
      ]
     },
     "execution_count": 39,
     "metadata": {},
     "output_type": "execute_result"
    }
   ],
   "source": [
    "nobel_df.awardYear * 10"
   ]
  },
  {
   "cell_type": "code",
   "execution_count": 54,
   "metadata": {},
   "outputs": [
    {
     "data": {
      "text/html": [
       "<div>\n",
       "<style scoped>\n",
       "    .dataframe tbody tr th:only-of-type {\n",
       "        vertical-align: middle;\n",
       "    }\n",
       "\n",
       "    .dataframe tbody tr th {\n",
       "        vertical-align: top;\n",
       "    }\n",
       "\n",
       "    .dataframe thead th {\n",
       "        text-align: right;\n",
       "    }\n",
       "</style>\n",
       "<table border=\"1\" class=\"dataframe\">\n",
       "  <thead>\n",
       "    <tr style=\"text-align: right;\">\n",
       "      <th></th>\n",
       "      <th>awardYear</th>\n",
       "      <th>category</th>\n",
       "      <th>prizeAmount</th>\n",
       "      <th>prizeAmountAdjusted</th>\n",
       "      <th>name</th>\n",
       "      <th>gender</th>\n",
       "      <th>birth_continent</th>\n",
       "    </tr>\n",
       "  </thead>\n",
       "  <tbody>\n",
       "    <tr>\n",
       "      <th>0</th>\n",
       "      <td>2001</td>\n",
       "      <td>Economic Sciences</td>\n",
       "      <td>10000000</td>\n",
       "      <td>12295082</td>\n",
       "      <td>A. Michael Spence</td>\n",
       "      <td>male</td>\n",
       "      <td>North America</td>\n",
       "    </tr>\n",
       "    <tr>\n",
       "      <th>1</th>\n",
       "      <td>1975</td>\n",
       "      <td>Physics</td>\n",
       "      <td>630000</td>\n",
       "      <td>3404179</td>\n",
       "      <td>Aage N. Bohr</td>\n",
       "      <td>male</td>\n",
       "      <td>Europe</td>\n",
       "    </tr>\n",
       "    <tr>\n",
       "      <th>2</th>\n",
       "      <td>2004</td>\n",
       "      <td>Chemistry</td>\n",
       "      <td>10000000</td>\n",
       "      <td>11762861</td>\n",
       "      <td>Aaron Ciechanover</td>\n",
       "      <td>male</td>\n",
       "      <td>Asia</td>\n",
       "    </tr>\n",
       "    <tr>\n",
       "      <th>3</th>\n",
       "      <td>1982</td>\n",
       "      <td>Chemistry</td>\n",
       "      <td>1150000</td>\n",
       "      <td>3102518</td>\n",
       "      <td>Aaron Klug</td>\n",
       "      <td>male</td>\n",
       "      <td>Europe</td>\n",
       "    </tr>\n",
       "    <tr>\n",
       "      <th>4</th>\n",
       "      <td>1979</td>\n",
       "      <td>Physics</td>\n",
       "      <td>800000</td>\n",
       "      <td>2988048</td>\n",
       "      <td>Abdus Salam</td>\n",
       "      <td>male</td>\n",
       "      <td>Asia</td>\n",
       "    </tr>\n",
       "  </tbody>\n",
       "</table>\n",
       "</div>"
      ],
      "text/plain": [
       "   awardYear           category  prizeAmount  prizeAmountAdjusted  \\\n",
       "0       2001  Economic Sciences     10000000             12295082   \n",
       "1       1975            Physics       630000              3404179   \n",
       "2       2004          Chemistry     10000000             11762861   \n",
       "3       1982          Chemistry      1150000              3102518   \n",
       "4       1979            Physics       800000              2988048   \n",
       "\n",
       "                name gender birth_continent  \n",
       "0  A. Michael Spence   male   North America  \n",
       "1       Aage N. Bohr   male          Europe  \n",
       "2  Aaron Ciechanover   male            Asia  \n",
       "3         Aaron Klug   male          Europe  \n",
       "4        Abdus Salam   male            Asia  "
      ]
     },
     "execution_count": 54,
     "metadata": {},
     "output_type": "execute_result"
    }
   ],
   "source": [
    "nobel_df.head()"
   ]
  },
  {
   "cell_type": "code",
   "execution_count": 43,
   "metadata": {},
   "outputs": [
    {
     "name": "stderr",
     "output_type": "stream",
     "text": [
      "/tmp/ipykernel_27908/2054195805.py:1: FutureWarning: The default value of numeric_only in DataFrameGroupBy.mean is deprecated. In a future version, numeric_only will default to False. Either specify numeric_only or select only columns which should be valid for the function.\n",
      "  df1.groupby('category').mean()\n"
     ]
    },
    {
     "data": {
      "text/html": [
       "<div>\n",
       "<style scoped>\n",
       "    .dataframe tbody tr th:only-of-type {\n",
       "        vertical-align: middle;\n",
       "    }\n",
       "\n",
       "    .dataframe tbody tr th {\n",
       "        vertical-align: top;\n",
       "    }\n",
       "\n",
       "    .dataframe thead th {\n",
       "        text-align: right;\n",
       "    }\n",
       "</style>\n",
       "<table border=\"1\" class=\"dataframe\">\n",
       "  <thead>\n",
       "    <tr style=\"text-align: right;\">\n",
       "      <th></th>\n",
       "      <th>awardYear</th>\n",
       "      <th>prizeAmount</th>\n",
       "      <th>prizeAmountAdjusted</th>\n",
       "    </tr>\n",
       "    <tr>\n",
       "      <th>category</th>\n",
       "      <th></th>\n",
       "      <th></th>\n",
       "      <th></th>\n",
       "    </tr>\n",
       "  </thead>\n",
       "  <tbody>\n",
       "    <tr>\n",
       "      <th>Chemistry</th>\n",
       "      <td>1972.347826</td>\n",
       "      <td>3.629279e+06</td>\n",
       "      <td>6.257868e+06</td>\n",
       "    </tr>\n",
       "    <tr>\n",
       "      <th>Economic Sciences</th>\n",
       "      <td>1996.119048</td>\n",
       "      <td>6.105845e+06</td>\n",
       "      <td>7.837779e+06</td>\n",
       "    </tr>\n",
       "    <tr>\n",
       "      <th>Literature</th>\n",
       "      <td>1960.931034</td>\n",
       "      <td>2.493811e+06</td>\n",
       "      <td>5.598256e+06</td>\n",
       "    </tr>\n",
       "    <tr>\n",
       "      <th>Peace</th>\n",
       "      <td>1964.537313</td>\n",
       "      <td>3.124879e+06</td>\n",
       "      <td>6.163907e+06</td>\n",
       "    </tr>\n",
       "    <tr>\n",
       "      <th>Physics</th>\n",
       "      <td>1971.065728</td>\n",
       "      <td>3.407939e+06</td>\n",
       "      <td>6.086978e+06</td>\n",
       "    </tr>\n",
       "    <tr>\n",
       "      <th>Physiology or Medicine</th>\n",
       "      <td>1970.356164</td>\n",
       "      <td>3.072973e+06</td>\n",
       "      <td>5.738301e+06</td>\n",
       "    </tr>\n",
       "  </tbody>\n",
       "</table>\n",
       "</div>"
      ],
      "text/plain": [
       "                          awardYear   prizeAmount  prizeAmountAdjusted\n",
       "category                                                              \n",
       "Chemistry               1972.347826  3.629279e+06         6.257868e+06\n",
       "Economic Sciences       1996.119048  6.105845e+06         7.837779e+06\n",
       "Literature              1960.931034  2.493811e+06         5.598256e+06\n",
       "Peace                   1964.537313  3.124879e+06         6.163907e+06\n",
       "Physics                 1971.065728  3.407939e+06         6.086978e+06\n",
       "Physiology or Medicine  1970.356164  3.072973e+06         5.738301e+06"
      ]
     },
     "execution_count": 43,
     "metadata": {},
     "output_type": "execute_result"
    }
   ],
   "source": [
    "nobel_df.groupby('category').mean()"
   ]
  },
  {
   "cell_type": "code",
   "execution_count": 62,
   "metadata": {},
   "outputs": [
    {
     "name": "stderr",
     "output_type": "stream",
     "text": [
      "/tmp/ipykernel_27908/3004994365.py:1: FutureWarning: The default value of numeric_only in DataFrameGroupBy.sum is deprecated. In a future version, numeric_only will default to False. Either specify numeric_only or select only columns which should be valid for the function.\n",
      "  nobel_df1.groupby(['category', 'awardYear']).transform(sum)\n"
     ]
    },
    {
     "data": {
      "text/html": [
       "<div>\n",
       "<style scoped>\n",
       "    .dataframe tbody tr th:only-of-type {\n",
       "        vertical-align: middle;\n",
       "    }\n",
       "\n",
       "    .dataframe tbody tr th {\n",
       "        vertical-align: top;\n",
       "    }\n",
       "\n",
       "    .dataframe thead th {\n",
       "        text-align: right;\n",
       "    }\n",
       "</style>\n",
       "<table border=\"1\" class=\"dataframe\">\n",
       "  <thead>\n",
       "    <tr style=\"text-align: right;\">\n",
       "      <th></th>\n",
       "      <th>prizeAmount</th>\n",
       "      <th>prizeAmountAdjusted</th>\n",
       "    </tr>\n",
       "  </thead>\n",
       "  <tbody>\n",
       "    <tr>\n",
       "      <th>0</th>\n",
       "      <td>30000000</td>\n",
       "      <td>36885246</td>\n",
       "    </tr>\n",
       "    <tr>\n",
       "      <th>1</th>\n",
       "      <td>1890000</td>\n",
       "      <td>10212537</td>\n",
       "    </tr>\n",
       "    <tr>\n",
       "      <th>2</th>\n",
       "      <td>30000000</td>\n",
       "      <td>35288583</td>\n",
       "    </tr>\n",
       "    <tr>\n",
       "      <th>3</th>\n",
       "      <td>1150000</td>\n",
       "      <td>3102518</td>\n",
       "    </tr>\n",
       "    <tr>\n",
       "      <th>4</th>\n",
       "      <td>2400000</td>\n",
       "      <td>8964144</td>\n",
       "    </tr>\n",
       "    <tr>\n",
       "      <th>...</th>\n",
       "      <td>...</td>\n",
       "      <td>...</td>\n",
       "    </tr>\n",
       "    <tr>\n",
       "      <th>945</th>\n",
       "      <td>1440000</td>\n",
       "      <td>10037175</td>\n",
       "    </tr>\n",
       "    <tr>\n",
       "      <th>946</th>\n",
       "      <td>181647</td>\n",
       "      <td>2640218</td>\n",
       "    </tr>\n",
       "    <tr>\n",
       "      <th>947</th>\n",
       "      <td>140695</td>\n",
       "      <td>7327865</td>\n",
       "    </tr>\n",
       "    <tr>\n",
       "      <th>948</th>\n",
       "      <td>1000000</td>\n",
       "      <td>2929688</td>\n",
       "    </tr>\n",
       "    <tr>\n",
       "      <th>949</th>\n",
       "      <td>530000</td>\n",
       "      <td>5678572</td>\n",
       "    </tr>\n",
       "  </tbody>\n",
       "</table>\n",
       "<p>950 rows × 2 columns</p>\n",
       "</div>"
      ],
      "text/plain": [
       "     prizeAmount  prizeAmountAdjusted\n",
       "0       30000000             36885246\n",
       "1        1890000             10212537\n",
       "2       30000000             35288583\n",
       "3        1150000              3102518\n",
       "4        2400000              8964144\n",
       "..           ...                  ...\n",
       "945      1440000             10037175\n",
       "946       181647              2640218\n",
       "947       140695              7327865\n",
       "948      1000000              2929688\n",
       "949       530000              5678572\n",
       "\n",
       "[950 rows x 2 columns]"
      ]
     },
     "execution_count": 62,
     "metadata": {},
     "output_type": "execute_result"
    }
   ],
   "source": [
    "nobel_df1.groupby(['category', 'awardYear']).transform(sum)"
   ]
  },
  {
   "cell_type": "code",
   "execution_count": 111,
   "metadata": {},
   "outputs": [],
   "source": [
    "grouped = nobel_df1.groupby('category')"
   ]
  },
  {
   "cell_type": "code",
   "execution_count": 115,
   "metadata": {},
   "outputs": [
    {
     "data": {
      "text/plain": [
       "{'Chemistry': array([  2,   3,   7,   9,  10,  11,  13,  14,  15,  17,  19,  39,  62,\n",
       "         64,  66,  71,  75,  80,  81,  86,  92, 104, 107, 112, 129, 135,\n",
       "        153, 169, 175, 178, 181, 188, 197, 199, 203, 210, 215, 223, 227,\n",
       "        239, 247, 249, 258, 264, 265, 268, 272, 274, 280, 282, 284, 289,\n",
       "        296, 298, 310, 311, 317, 318, 337, 341, 343, 348, 352, 357, 362,\n",
       "        365, 366, 372, 374, 384, 394, 395, 396, 415, 416, 419, 434, 440,\n",
       "        442, 444, 446, 448, 450, 455, 456, 459, 461, 463, 465, 469, 475,\n",
       "        504, 505, 508, 518, 522, 523, 524, 539, 549, 558, 559, 563, 567,\n",
       "        571, 572, 585, 591, 596, 599, 627, 630, 632, 641, 643, 644, 648,\n",
       "        659, 661, 666, 667, 668, 671, 673, 679, 681, 686, 713, 715, 717,\n",
       "        719, 720, 722, 723, 725, 726, 729, 732, 738, 742, 744, 746, 751,\n",
       "        756, 759, 763, 766, 773, 776, 798, 810, 813, 814, 817, 827, 828,\n",
       "        829, 832, 839, 848, 853, 855, 862, 866, 880, 885, 886, 888, 889,\n",
       "        892, 894, 897, 902, 904, 914, 915, 920, 921, 922, 940, 941, 943,\n",
       "        946, 947]),\n",
       " 'Economic Sciences': array([  0,   5,  45,  46,  58,  90,  96, 139, 140, 145, 152, 156, 157,\n",
       "        180, 187, 193, 207, 219, 231, 232, 246, 250, 269, 279, 283, 295,\n",
       "        305, 324, 346, 369, 418, 422, 425, 426, 430, 432, 438, 458, 467,\n",
       "        476, 485, 510, 525, 527, 537, 538, 546, 580, 594, 595, 605, 611,\n",
       "        636, 637, 657, 669, 670, 678, 700, 708, 716, 724, 734, 737, 739,\n",
       "        745, 747, 749, 750, 753, 758, 767, 800, 805, 854, 856, 860, 864,\n",
       "        871, 882, 896, 912, 916, 924]),\n",
       " 'Literature': array([ 21,  31,  40,  49,  52,  98, 100, 101, 102, 111, 115, 142, 149,\n",
       "        159, 170, 177, 201, 202, 220, 221, 233, 235, 237, 253, 257, 259,\n",
       "        275, 277, 278, 286, 312, 315, 316, 321, 326, 333, 345, 347, 350,\n",
       "        355, 359, 364, 370, 373, 385, 397, 400, 403, 406, 411, 435, 439,\n",
       "        441, 454, 468, 479, 480, 482, 483, 492, 501, 506, 511, 516, 556,\n",
       "        569, 581, 602, 604, 606, 613, 614, 618, 631, 633, 635, 640, 652,\n",
       "        653, 655, 656, 665, 675, 683, 699, 761, 765, 771, 774, 777, 779,\n",
       "        780, 784, 786, 788, 796, 799, 803, 836, 840, 842, 850, 861, 867,\n",
       "        868, 878, 881, 883, 910, 917, 919, 927, 928, 929, 930, 936]),\n",
       " 'Peace': array([  6,  12,  16,  25,  26,  27,  34,  36,  44,  47,  48,  54,  61,\n",
       "         65,  72,  78,  79,  82,  95,  99, 116, 119, 120, 126, 137, 146,\n",
       "        151, 166, 167, 171, 200, 204, 205, 206, 209, 213, 225, 236, 240,\n",
       "        244, 255, 260, 266, 267, 270, 287, 303, 320, 329, 356, 360, 361,\n",
       "        377, 386, 387, 388, 389, 390, 391, 392, 393, 433, 447, 449, 471,\n",
       "        477, 481, 489, 491, 500, 512, 514, 517, 528, 529, 530, 533, 534,\n",
       "        540, 542, 544, 545, 547, 553, 555, 560, 562, 574, 578, 590, 593,\n",
       "        603, 607, 608, 609, 612, 615, 616, 617, 619, 620, 628, 634, 639,\n",
       "        642, 664, 677, 688, 697, 703, 705, 710, 727, 736, 787, 793, 795,\n",
       "        806, 823, 846, 847, 852, 865, 875, 876, 877, 895, 926, 934, 935,\n",
       "        937, 944, 948, 949]),\n",
       " 'Physics': array([  1,   4,   8,  20,  23,  24,  30,  32,  38,  51,  59,  60,  67,\n",
       "         68,  69,  70,  74,  84,  89,  97, 103, 105, 108, 109, 114, 117,\n",
       "        118, 122, 125, 127, 128, 130, 133, 141, 143, 144, 155, 162, 163,\n",
       "        164, 165, 168, 173, 174, 176, 179, 183, 195, 212, 214, 216, 222,\n",
       "        224, 228, 230, 234, 238, 241, 243, 251, 256, 263, 271, 276, 291,\n",
       "        292, 297, 301, 306, 307, 308, 323, 327, 328, 330, 335, 336, 338,\n",
       "        349, 351, 353, 354, 363, 367, 375, 376, 378, 381, 382, 398, 399,\n",
       "        402, 404, 405, 408, 410, 412, 413, 420, 421, 424, 428, 429, 436,\n",
       "        445, 451, 453, 457, 460, 462, 470, 472, 487, 495, 498, 499, 509,\n",
       "        513, 515, 521, 526, 532, 535, 536, 541, 548, 550, 552, 557, 561,\n",
       "        564, 565, 566, 573, 576, 577, 579, 583, 586, 588, 592, 601, 610,\n",
       "        621, 622, 623, 629, 647, 650, 651, 654, 658, 674, 676, 682, 684,\n",
       "        690, 691, 693, 694, 695, 696, 698, 702, 707, 711, 714, 721, 730,\n",
       "        731, 735, 743, 752, 755, 770, 772, 775, 781, 785, 790, 792, 797,\n",
       "        801, 802, 808, 822, 833, 834, 835, 844, 851, 870, 872, 879, 884,\n",
       "        887, 890, 893, 900, 901, 903, 905, 907, 908, 909, 913, 925, 931,\n",
       "        932, 933, 938, 942, 945]),\n",
       " 'Physiology or Medicine': array([ 18,  22,  28,  29,  33,  35,  37,  41,  42,  43,  50,  53,  55,\n",
       "         56,  57,  63,  73,  76,  77,  83,  85,  87,  88,  91,  93,  94,\n",
       "        106, 110, 113, 121, 123, 124, 131, 132, 134, 136, 138, 147, 148,\n",
       "        150, 154, 158, 160, 161, 172, 182, 184, 185, 186, 189, 190, 191,\n",
       "        192, 194, 196, 198, 208, 211, 217, 218, 226, 229, 242, 245, 248,\n",
       "        252, 254, 261, 262, 273, 281, 285, 288, 290, 293, 294, 299, 300,\n",
       "        302, 304, 309, 313, 314, 319, 322, 325, 331, 332, 334, 339, 340,\n",
       "        342, 344, 358, 368, 371, 379, 380, 383, 401, 407, 409, 414, 417,\n",
       "        423, 427, 431, 437, 443, 452, 464, 466, 473, 474, 478, 484, 486,\n",
       "        488, 490, 493, 494, 496, 497, 502, 503, 507, 519, 520, 531, 543,\n",
       "        551, 554, 568, 570, 575, 582, 584, 587, 589, 597, 598, 600, 624,\n",
       "        625, 626, 638, 645, 646, 649, 660, 662, 663, 672, 680, 685, 687,\n",
       "        689, 692, 701, 704, 706, 709, 712, 718, 728, 733, 740, 741, 748,\n",
       "        754, 757, 760, 762, 764, 768, 769, 778, 782, 783, 789, 791, 794,\n",
       "        804, 807, 809, 811, 812, 815, 816, 818, 819, 820, 821, 824, 825,\n",
       "        826, 830, 831, 837, 838, 841, 843, 845, 849, 857, 858, 859, 863,\n",
       "        869, 873, 874, 891, 898, 899, 906, 911, 918, 923, 939])}"
      ]
     },
     "execution_count": 115,
     "metadata": {},
     "output_type": "execute_result"
    }
   ],
   "source": [
    "nobel_df1.groupby('category').indices"
   ]
  },
  {
   "cell_type": "code",
   "execution_count": 118,
   "metadata": {},
   "outputs": [
    {
     "data": {
      "text/html": [
       "<div>\n",
       "<style scoped>\n",
       "    .dataframe tbody tr th:only-of-type {\n",
       "        vertical-align: middle;\n",
       "    }\n",
       "\n",
       "    .dataframe tbody tr th {\n",
       "        vertical-align: top;\n",
       "    }\n",
       "\n",
       "    .dataframe thead th {\n",
       "        text-align: right;\n",
       "    }\n",
       "</style>\n",
       "<table border=\"1\" class=\"dataframe\">\n",
       "  <thead>\n",
       "    <tr style=\"text-align: right;\">\n",
       "      <th></th>\n",
       "      <th>awardYear</th>\n",
       "      <th>category</th>\n",
       "      <th>prizeAmount</th>\n",
       "      <th>prizeAmountAdjusted</th>\n",
       "      <th>name</th>\n",
       "      <th>gender</th>\n",
       "      <th>birth_continent</th>\n",
       "    </tr>\n",
       "  </thead>\n",
       "  <tbody>\n",
       "    <tr>\n",
       "      <th>0</th>\n",
       "      <td>2001</td>\n",
       "      <td>Economic Sciences</td>\n",
       "      <td>10000000</td>\n",
       "      <td>12295082</td>\n",
       "      <td>A. Michael Spence</td>\n",
       "      <td>male</td>\n",
       "      <td>North America</td>\n",
       "    </tr>\n",
       "    <tr>\n",
       "      <th>5</th>\n",
       "      <td>2019</td>\n",
       "      <td>Economic Sciences</td>\n",
       "      <td>9000000</td>\n",
       "      <td>9000000</td>\n",
       "      <td>Abhijit Banerjee</td>\n",
       "      <td>male</td>\n",
       "      <td>Asia</td>\n",
       "    </tr>\n",
       "    <tr>\n",
       "      <th>45</th>\n",
       "      <td>2012</td>\n",
       "      <td>Economic Sciences</td>\n",
       "      <td>8000000</td>\n",
       "      <td>8361204</td>\n",
       "      <td>Alvin E. Roth</td>\n",
       "      <td>male</td>\n",
       "      <td>North America</td>\n",
       "    </tr>\n",
       "    <tr>\n",
       "      <th>46</th>\n",
       "      <td>1998</td>\n",
       "      <td>Economic Sciences</td>\n",
       "      <td>7600000</td>\n",
       "      <td>9713701</td>\n",
       "      <td>Amartya Sen</td>\n",
       "      <td>male</td>\n",
       "      <td>Asia</td>\n",
       "    </tr>\n",
       "    <tr>\n",
       "      <th>58</th>\n",
       "      <td>2015</td>\n",
       "      <td>Economic Sciences</td>\n",
       "      <td>8000000</td>\n",
       "      <td>8384572</td>\n",
       "      <td>Angus Deaton</td>\n",
       "      <td>male</td>\n",
       "      <td>Europe</td>\n",
       "    </tr>\n",
       "    <tr>\n",
       "      <th>...</th>\n",
       "      <td>...</td>\n",
       "      <td>...</td>\n",
       "      <td>...</td>\n",
       "      <td>...</td>\n",
       "      <td>...</td>\n",
       "      <td>...</td>\n",
       "      <td>...</td>\n",
       "    </tr>\n",
       "    <tr>\n",
       "      <th>882</th>\n",
       "      <td>2002</td>\n",
       "      <td>Economic Sciences</td>\n",
       "      <td>10000000</td>\n",
       "      <td>12034660</td>\n",
       "      <td>Vernon L. Smith</td>\n",
       "      <td>male</td>\n",
       "      <td>North America</td>\n",
       "    </tr>\n",
       "    <tr>\n",
       "      <th>896</th>\n",
       "      <td>1973</td>\n",
       "      <td>Economic Sciences</td>\n",
       "      <td>510000</td>\n",
       "      <td>3331882</td>\n",
       "      <td>Wassily Leontief</td>\n",
       "      <td>male</td>\n",
       "      <td>Europe</td>\n",
       "    </tr>\n",
       "    <tr>\n",
       "      <th>912</th>\n",
       "      <td>2018</td>\n",
       "      <td>Economic Sciences</td>\n",
       "      <td>9000000</td>\n",
       "      <td>9000000</td>\n",
       "      <td>William D. Nordhaus</td>\n",
       "      <td>male</td>\n",
       "      <td>North America</td>\n",
       "    </tr>\n",
       "    <tr>\n",
       "      <th>916</th>\n",
       "      <td>1990</td>\n",
       "      <td>Economic Sciences</td>\n",
       "      <td>4000000</td>\n",
       "      <td>6329114</td>\n",
       "      <td>William F. Sharpe</td>\n",
       "      <td>male</td>\n",
       "      <td>North America</td>\n",
       "    </tr>\n",
       "    <tr>\n",
       "      <th>924</th>\n",
       "      <td>1996</td>\n",
       "      <td>Economic Sciences</td>\n",
       "      <td>7400000</td>\n",
       "      <td>9490424</td>\n",
       "      <td>William Vickrey</td>\n",
       "      <td>male</td>\n",
       "      <td>North America</td>\n",
       "    </tr>\n",
       "  </tbody>\n",
       "</table>\n",
       "<p>84 rows × 7 columns</p>\n",
       "</div>"
      ],
      "text/plain": [
       "     awardYear           category  prizeAmount  prizeAmountAdjusted  \\\n",
       "0         2001  Economic Sciences     10000000             12295082   \n",
       "5         2019  Economic Sciences      9000000              9000000   \n",
       "45        2012  Economic Sciences      8000000              8361204   \n",
       "46        1998  Economic Sciences      7600000              9713701   \n",
       "58        2015  Economic Sciences      8000000              8384572   \n",
       "..         ...                ...          ...                  ...   \n",
       "882       2002  Economic Sciences     10000000             12034660   \n",
       "896       1973  Economic Sciences       510000              3331882   \n",
       "912       2018  Economic Sciences      9000000              9000000   \n",
       "916       1990  Economic Sciences      4000000              6329114   \n",
       "924       1996  Economic Sciences      7400000              9490424   \n",
       "\n",
       "                    name gender birth_continent  \n",
       "0      A. Michael Spence   male   North America  \n",
       "5       Abhijit Banerjee   male            Asia  \n",
       "45         Alvin E. Roth   male   North America  \n",
       "46           Amartya Sen   male            Asia  \n",
       "58          Angus Deaton   male          Europe  \n",
       "..                   ...    ...             ...  \n",
       "882      Vernon L. Smith   male   North America  \n",
       "896     Wassily Leontief   male          Europe  \n",
       "912  William D. Nordhaus   male   North America  \n",
       "916    William F. Sharpe   male   North America  \n",
       "924      William Vickrey   male   North America  \n",
       "\n",
       "[84 rows x 7 columns]"
      ]
     },
     "execution_count": 118,
     "metadata": {},
     "output_type": "execute_result"
    }
   ],
   "source": [
    "nobel_df1.groupby('category').get_group('Economic Sciences')"
   ]
  },
  {
   "cell_type": "code",
   "execution_count": 122,
   "metadata": {},
   "outputs": [
    {
     "name": "stderr",
     "output_type": "stream",
     "text": [
      "/tmp/ipykernel_27908/3697088024.py:1: FutureWarning: ['name', 'gender', 'birth_continent'] did not aggregate successfully. If any error is raised this will raise in a future version of pandas. Drop these columns/ops to avoid this warning.\n",
      "  nobel_df1.groupby(\"category\").agg([\"mean\", \"sum\"])\n"
     ]
    },
    {
     "data": {
      "text/html": [
       "<div>\n",
       "<style scoped>\n",
       "    .dataframe tbody tr th:only-of-type {\n",
       "        vertical-align: middle;\n",
       "    }\n",
       "\n",
       "    .dataframe tbody tr th {\n",
       "        vertical-align: top;\n",
       "    }\n",
       "\n",
       "    .dataframe thead tr th {\n",
       "        text-align: left;\n",
       "    }\n",
       "\n",
       "    .dataframe thead tr:last-of-type th {\n",
       "        text-align: right;\n",
       "    }\n",
       "</style>\n",
       "<table border=\"1\" class=\"dataframe\">\n",
       "  <thead>\n",
       "    <tr>\n",
       "      <th></th>\n",
       "      <th colspan=\"2\" halign=\"left\">awardYear</th>\n",
       "      <th colspan=\"2\" halign=\"left\">prizeAmount</th>\n",
       "      <th colspan=\"2\" halign=\"left\">prizeAmountAdjusted</th>\n",
       "    </tr>\n",
       "    <tr>\n",
       "      <th></th>\n",
       "      <th>mean</th>\n",
       "      <th>sum</th>\n",
       "      <th>mean</th>\n",
       "      <th>sum</th>\n",
       "      <th>mean</th>\n",
       "      <th>sum</th>\n",
       "    </tr>\n",
       "    <tr>\n",
       "      <th>category</th>\n",
       "      <th></th>\n",
       "      <th></th>\n",
       "      <th></th>\n",
       "      <th></th>\n",
       "      <th></th>\n",
       "      <th></th>\n",
       "    </tr>\n",
       "  </thead>\n",
       "  <tbody>\n",
       "    <tr>\n",
       "      <th>Chemistry</th>\n",
       "      <td>1972.347826</td>\n",
       "      <td>362912</td>\n",
       "      <td>3.629279e+06</td>\n",
       "      <td>667787418</td>\n",
       "      <td>6.257868e+06</td>\n",
       "      <td>1151447726</td>\n",
       "    </tr>\n",
       "    <tr>\n",
       "      <th>Economic Sciences</th>\n",
       "      <td>1996.119048</td>\n",
       "      <td>167674</td>\n",
       "      <td>6.105845e+06</td>\n",
       "      <td>512891000</td>\n",
       "      <td>7.837779e+06</td>\n",
       "      <td>658373449</td>\n",
       "    </tr>\n",
       "    <tr>\n",
       "      <th>Literature</th>\n",
       "      <td>1960.931034</td>\n",
       "      <td>227468</td>\n",
       "      <td>2.493811e+06</td>\n",
       "      <td>289282102</td>\n",
       "      <td>5.598256e+06</td>\n",
       "      <td>649397731</td>\n",
       "    </tr>\n",
       "    <tr>\n",
       "      <th>Peace</th>\n",
       "      <td>1964.537313</td>\n",
       "      <td>263248</td>\n",
       "      <td>3.124879e+06</td>\n",
       "      <td>418733807</td>\n",
       "      <td>6.163907e+06</td>\n",
       "      <td>825963521</td>\n",
       "    </tr>\n",
       "    <tr>\n",
       "      <th>Physics</th>\n",
       "      <td>1971.065728</td>\n",
       "      <td>419837</td>\n",
       "      <td>3.407939e+06</td>\n",
       "      <td>725890928</td>\n",
       "      <td>6.086978e+06</td>\n",
       "      <td>1296526352</td>\n",
       "    </tr>\n",
       "    <tr>\n",
       "      <th>Physiology or Medicine</th>\n",
       "      <td>1970.356164</td>\n",
       "      <td>431508</td>\n",
       "      <td>3.072973e+06</td>\n",
       "      <td>672981066</td>\n",
       "      <td>5.738301e+06</td>\n",
       "      <td>1256687857</td>\n",
       "    </tr>\n",
       "  </tbody>\n",
       "</table>\n",
       "</div>"
      ],
      "text/plain": [
       "                          awardYear           prizeAmount             \\\n",
       "                               mean     sum          mean        sum   \n",
       "category                                                               \n",
       "Chemistry               1972.347826  362912  3.629279e+06  667787418   \n",
       "Economic Sciences       1996.119048  167674  6.105845e+06  512891000   \n",
       "Literature              1960.931034  227468  2.493811e+06  289282102   \n",
       "Peace                   1964.537313  263248  3.124879e+06  418733807   \n",
       "Physics                 1971.065728  419837  3.407939e+06  725890928   \n",
       "Physiology or Medicine  1970.356164  431508  3.072973e+06  672981066   \n",
       "\n",
       "                       prizeAmountAdjusted              \n",
       "                                      mean         sum  \n",
       "category                                                \n",
       "Chemistry                     6.257868e+06  1151447726  \n",
       "Economic Sciences             7.837779e+06   658373449  \n",
       "Literature                    5.598256e+06   649397731  \n",
       "Peace                         6.163907e+06   825963521  \n",
       "Physics                       6.086978e+06  1296526352  \n",
       "Physiology or Medicine        5.738301e+06  1256687857  "
      ]
     },
     "execution_count": 122,
     "metadata": {},
     "output_type": "execute_result"
    }
   ],
   "source": [
    "nobel_df1.groupby(\"category\").agg([\"mean\", \"sum\"])"
   ]
  },
  {
   "cell_type": "code",
   "execution_count": 123,
   "metadata": {},
   "outputs": [
    {
     "data": {
      "text/plain": [
       "category\n",
       "Chemistry                 1151447726\n",
       "Economic Sciences          658373449\n",
       "Literature                 649397731\n",
       "Peace                      825963521\n",
       "Physics                   1296526352\n",
       "Physiology or Medicine    1256687857\n",
       "Name: prizeAmountAdjusted, dtype: int64"
      ]
     },
     "execution_count": 123,
     "metadata": {},
     "output_type": "execute_result"
    }
   ],
   "source": [
    "nobel_df1.groupby('category')[\"prizeAmountAdjusted\"].sum()"
   ]
  },
  {
   "cell_type": "code",
   "execution_count": 124,
   "metadata": {},
   "outputs": [
    {
     "data": {
      "text/html": [
       "<div>\n",
       "<style scoped>\n",
       "    .dataframe tbody tr th:only-of-type {\n",
       "        vertical-align: middle;\n",
       "    }\n",
       "\n",
       "    .dataframe tbody tr th {\n",
       "        vertical-align: top;\n",
       "    }\n",
       "\n",
       "    .dataframe thead th {\n",
       "        text-align: right;\n",
       "    }\n",
       "</style>\n",
       "<table border=\"1\" class=\"dataframe\">\n",
       "  <thead>\n",
       "    <tr style=\"text-align: right;\">\n",
       "      <th></th>\n",
       "      <th>sum_amt</th>\n",
       "    </tr>\n",
       "    <tr>\n",
       "      <th>category</th>\n",
       "      <th></th>\n",
       "    </tr>\n",
       "  </thead>\n",
       "  <tbody>\n",
       "    <tr>\n",
       "      <th>Chemistry</th>\n",
       "      <td>1151447726</td>\n",
       "    </tr>\n",
       "    <tr>\n",
       "      <th>Economic Sciences</th>\n",
       "      <td>658373449</td>\n",
       "    </tr>\n",
       "    <tr>\n",
       "      <th>Literature</th>\n",
       "      <td>649397731</td>\n",
       "    </tr>\n",
       "    <tr>\n",
       "      <th>Peace</th>\n",
       "      <td>825963521</td>\n",
       "    </tr>\n",
       "    <tr>\n",
       "      <th>Physics</th>\n",
       "      <td>1296526352</td>\n",
       "    </tr>\n",
       "    <tr>\n",
       "      <th>Physiology or Medicine</th>\n",
       "      <td>1256687857</td>\n",
       "    </tr>\n",
       "  </tbody>\n",
       "</table>\n",
       "</div>"
      ],
      "text/plain": [
       "                           sum_amt\n",
       "category                          \n",
       "Chemistry               1151447726\n",
       "Economic Sciences        658373449\n",
       "Literature               649397731\n",
       "Peace                    825963521\n",
       "Physics                 1296526352\n",
       "Physiology or Medicine  1256687857"
      ]
     },
     "execution_count": 124,
     "metadata": {},
     "output_type": "execute_result"
    }
   ],
   "source": [
    "nobel_df1.groupby(\"category\").agg(sum_amt=(\"prizeAmountAdjusted\", \"sum\"))"
   ]
  },
  {
   "cell_type": "code",
   "execution_count": 125,
   "metadata": {},
   "outputs": [
    {
     "data": {
      "text/html": [
       "<div>\n",
       "<style scoped>\n",
       "    .dataframe tbody tr th:only-of-type {\n",
       "        vertical-align: middle;\n",
       "    }\n",
       "\n",
       "    .dataframe tbody tr th {\n",
       "        vertical-align: top;\n",
       "    }\n",
       "\n",
       "    .dataframe thead th {\n",
       "        text-align: right;\n",
       "    }\n",
       "</style>\n",
       "<table border=\"1\" class=\"dataframe\">\n",
       "  <thead>\n",
       "    <tr style=\"text-align: right;\">\n",
       "      <th></th>\n",
       "      <th>prizeAmountAdjusted</th>\n",
       "    </tr>\n",
       "    <tr>\n",
       "      <th>category</th>\n",
       "      <th></th>\n",
       "    </tr>\n",
       "  </thead>\n",
       "  <tbody>\n",
       "    <tr>\n",
       "      <th>Chemistry</th>\n",
       "      <td>1151447726</td>\n",
       "    </tr>\n",
       "    <tr>\n",
       "      <th>Economic Sciences</th>\n",
       "      <td>658373449</td>\n",
       "    </tr>\n",
       "    <tr>\n",
       "      <th>Literature</th>\n",
       "      <td>649397731</td>\n",
       "    </tr>\n",
       "    <tr>\n",
       "      <th>Peace</th>\n",
       "      <td>825963521</td>\n",
       "    </tr>\n",
       "    <tr>\n",
       "      <th>Physics</th>\n",
       "      <td>1296526352</td>\n",
       "    </tr>\n",
       "    <tr>\n",
       "      <th>Physiology or Medicine</th>\n",
       "      <td>1256687857</td>\n",
       "    </tr>\n",
       "  </tbody>\n",
       "</table>\n",
       "</div>"
      ],
      "text/plain": [
       "                        prizeAmountAdjusted\n",
       "category                                   \n",
       "Chemistry                        1151447726\n",
       "Economic Sciences                 658373449\n",
       "Literature                        649397731\n",
       "Peace                             825963521\n",
       "Physics                          1296526352\n",
       "Physiology or Medicine           1256687857"
      ]
     },
     "execution_count": 125,
     "metadata": {},
     "output_type": "execute_result"
    }
   ],
   "source": [
    "nobel_df1.groupby(\"category\").agg({\"prizeAmountAdjusted\": \"sum\"})"
   ]
  },
  {
   "cell_type": "code",
   "execution_count": 128,
   "metadata": {},
   "outputs": [
    {
     "data": {
      "text/plain": [
       "category\n",
       "Chemistry                 184\n",
       "Economic Sciences          84\n",
       "Literature                116\n",
       "Peace                     134\n",
       "Physics                   213\n",
       "Physiology or Medicine    219\n",
       "dtype: int64"
      ]
     },
     "execution_count": 128,
     "metadata": {},
     "output_type": "execute_result"
    }
   ],
   "source": [
    "nobel_df1.groupby(\"category\")[[\"prizeAmount\", \"prizeAmountAdjusted\"]].size()"
   ]
  },
  {
   "cell_type": "code",
   "execution_count": 133,
   "metadata": {},
   "outputs": [
    {
     "data": {
      "text/html": [
       "<div>\n",
       "<style scoped>\n",
       "    .dataframe tbody tr th:only-of-type {\n",
       "        vertical-align: middle;\n",
       "    }\n",
       "\n",
       "    .dataframe tbody tr th {\n",
       "        vertical-align: top;\n",
       "    }\n",
       "\n",
       "    .dataframe thead tr th {\n",
       "        text-align: left;\n",
       "    }\n",
       "\n",
       "    .dataframe thead tr:last-of-type th {\n",
       "        text-align: right;\n",
       "    }\n",
       "</style>\n",
       "<table border=\"1\" class=\"dataframe\">\n",
       "  <thead>\n",
       "    <tr>\n",
       "      <th></th>\n",
       "      <th colspan=\"3\" halign=\"left\">prizeAmount</th>\n",
       "      <th>prizeAmountAdjusted</th>\n",
       "    </tr>\n",
       "    <tr>\n",
       "      <th></th>\n",
       "      <th>sum</th>\n",
       "      <th>size</th>\n",
       "      <th>count</th>\n",
       "      <th>mean</th>\n",
       "    </tr>\n",
       "    <tr>\n",
       "      <th>category</th>\n",
       "      <th></th>\n",
       "      <th></th>\n",
       "      <th></th>\n",
       "      <th></th>\n",
       "    </tr>\n",
       "  </thead>\n",
       "  <tbody>\n",
       "    <tr>\n",
       "      <th>Chemistry</th>\n",
       "      <td>667787418</td>\n",
       "      <td>184</td>\n",
       "      <td>184</td>\n",
       "      <td>6.257868e+06</td>\n",
       "    </tr>\n",
       "    <tr>\n",
       "      <th>Economic Sciences</th>\n",
       "      <td>512891000</td>\n",
       "      <td>84</td>\n",
       "      <td>84</td>\n",
       "      <td>7.837779e+06</td>\n",
       "    </tr>\n",
       "    <tr>\n",
       "      <th>Literature</th>\n",
       "      <td>289282102</td>\n",
       "      <td>116</td>\n",
       "      <td>116</td>\n",
       "      <td>5.598256e+06</td>\n",
       "    </tr>\n",
       "    <tr>\n",
       "      <th>Peace</th>\n",
       "      <td>418733807</td>\n",
       "      <td>134</td>\n",
       "      <td>134</td>\n",
       "      <td>6.163907e+06</td>\n",
       "    </tr>\n",
       "    <tr>\n",
       "      <th>Physics</th>\n",
       "      <td>725890928</td>\n",
       "      <td>213</td>\n",
       "      <td>213</td>\n",
       "      <td>6.086978e+06</td>\n",
       "    </tr>\n",
       "    <tr>\n",
       "      <th>Physiology or Medicine</th>\n",
       "      <td>672981066</td>\n",
       "      <td>219</td>\n",
       "      <td>219</td>\n",
       "      <td>5.738301e+06</td>\n",
       "    </tr>\n",
       "  </tbody>\n",
       "</table>\n",
       "</div>"
      ],
      "text/plain": [
       "                       prizeAmount            prizeAmountAdjusted\n",
       "                               sum size count                mean\n",
       "category                                                         \n",
       "Chemistry                667787418  184   184        6.257868e+06\n",
       "Economic Sciences        512891000   84    84        7.837779e+06\n",
       "Literature               289282102  116   116        5.598256e+06\n",
       "Peace                    418733807  134   134        6.163907e+06\n",
       "Physics                  725890928  213   213        6.086978e+06\n",
       "Physiology or Medicine   672981066  219   219        5.738301e+06"
      ]
     },
     "execution_count": 133,
     "metadata": {},
     "output_type": "execute_result"
    }
   ],
   "source": [
    "nobel_df1.groupby(\"category\").agg({\"prizeAmount\" : [\"sum\", \"size\", \"count\"], \"prizeAmountAdjusted\": \"mean\"})"
   ]
  },
  {
   "cell_type": "code",
   "execution_count": 139,
   "metadata": {},
   "outputs": [
    {
     "data": {
      "text/html": [
       "<div>\n",
       "<style scoped>\n",
       "    .dataframe tbody tr th:only-of-type {\n",
       "        vertical-align: middle;\n",
       "    }\n",
       "\n",
       "    .dataframe tbody tr th {\n",
       "        vertical-align: top;\n",
       "    }\n",
       "\n",
       "    .dataframe thead th {\n",
       "        text-align: right;\n",
       "    }\n",
       "</style>\n",
       "<table border=\"1\" class=\"dataframe\">\n",
       "  <thead>\n",
       "    <tr style=\"text-align: right;\">\n",
       "      <th></th>\n",
       "      <th>prizeAmount</th>\n",
       "      <th>prizeAmount</th>\n",
       "      <th>prizeAmountAdjusted</th>\n",
       "    </tr>\n",
       "  </thead>\n",
       "  <tbody>\n",
       "    <tr>\n",
       "      <th>0</th>\n",
       "      <td>1.028124</td>\n",
       "      <td>1.028124</td>\n",
       "      <td>1.345336</td>\n",
       "    </tr>\n",
       "    <tr>\n",
       "      <th>1</th>\n",
       "      <td>-0.692222</td>\n",
       "      <td>-0.692222</td>\n",
       "      <td>-0.814384</td>\n",
       "    </tr>\n",
       "    <tr>\n",
       "      <th>2</th>\n",
       "      <td>1.565061</td>\n",
       "      <td>1.565061</td>\n",
       "      <td>1.680387</td>\n",
       "    </tr>\n",
       "    <tr>\n",
       "      <th>3</th>\n",
       "      <td>-0.609072</td>\n",
       "      <td>-0.609072</td>\n",
       "      <td>-0.963164</td>\n",
       "    </tr>\n",
       "    <tr>\n",
       "      <th>4</th>\n",
       "      <td>-0.649861</td>\n",
       "      <td>-0.649861</td>\n",
       "      <td>-0.940704</td>\n",
       "    </tr>\n",
       "    <tr>\n",
       "      <th>...</th>\n",
       "      <td>...</td>\n",
       "      <td>...</td>\n",
       "      <td>...</td>\n",
       "    </tr>\n",
       "    <tr>\n",
       "      <th>945</th>\n",
       "      <td>-0.729600</td>\n",
       "      <td>-0.729600</td>\n",
       "      <td>-0.832128</td>\n",
       "    </tr>\n",
       "    <tr>\n",
       "      <th>946</th>\n",
       "      <td>-0.846962</td>\n",
       "      <td>-0.846962</td>\n",
       "      <td>-1.104280</td>\n",
       "    </tr>\n",
       "    <tr>\n",
       "      <th>947</th>\n",
       "      <td>-0.857022</td>\n",
       "      <td>-0.857022</td>\n",
       "      <td>0.326614</td>\n",
       "    </tr>\n",
       "    <tr>\n",
       "      <th>948</th>\n",
       "      <td>-0.540078</td>\n",
       "      <td>-0.540078</td>\n",
       "      <td>-1.013898</td>\n",
       "    </tr>\n",
       "    <tr>\n",
       "      <th>949</th>\n",
       "      <td>-0.726892</td>\n",
       "      <td>-0.726892</td>\n",
       "      <td>-1.042238</td>\n",
       "    </tr>\n",
       "  </tbody>\n",
       "</table>\n",
       "<p>950 rows × 3 columns</p>\n",
       "</div>"
      ],
      "text/plain": [
       "     prizeAmount  prizeAmount  prizeAmountAdjusted\n",
       "0       1.028124     1.028124             1.345336\n",
       "1      -0.692222    -0.692222            -0.814384\n",
       "2       1.565061     1.565061             1.680387\n",
       "3      -0.609072    -0.609072            -0.963164\n",
       "4      -0.649861    -0.649861            -0.940704\n",
       "..           ...          ...                  ...\n",
       "945    -0.729600    -0.729600            -0.832128\n",
       "946    -0.846962    -0.846962            -1.104280\n",
       "947    -0.857022    -0.857022             0.326614\n",
       "948    -0.540078    -0.540078            -1.013898\n",
       "949    -0.726892    -0.726892            -1.042238\n",
       "\n",
       "[950 rows x 3 columns]"
      ]
     },
     "execution_count": 139,
     "metadata": {},
     "output_type": "execute_result"
    }
   ],
   "source": [
    "nobel_df1.groupby(\"category\")[[\"prizeAmount\", \"prizeAmountAdjusted\"]].transform(lambda x: (x - x.mean()) / x.std() )"
   ]
  },
  {
   "cell_type": "code",
   "execution_count": 140,
   "metadata": {},
   "outputs": [
    {
     "name": "stderr",
     "output_type": "stream",
     "text": [
      "/tmp/ipykernel_27908/2617874028.py:1: FutureWarning: The default value of numeric_only in DataFrameGroupBy.sum is deprecated. In a future version, numeric_only will default to False. Either specify numeric_only or select only columns which should be valid for the function.\n",
      "  nobel_df1.groupby(\"category\").transform(\"sum\")\n"
     ]
    },
    {
     "data": {
      "text/html": [
       "<div>\n",
       "<style scoped>\n",
       "    .dataframe tbody tr th:only-of-type {\n",
       "        vertical-align: middle;\n",
       "    }\n",
       "\n",
       "    .dataframe tbody tr th {\n",
       "        vertical-align: top;\n",
       "    }\n",
       "\n",
       "    .dataframe thead th {\n",
       "        text-align: right;\n",
       "    }\n",
       "</style>\n",
       "<table border=\"1\" class=\"dataframe\">\n",
       "  <thead>\n",
       "    <tr style=\"text-align: right;\">\n",
       "      <th></th>\n",
       "      <th>awardYear</th>\n",
       "      <th>prizeAmount</th>\n",
       "      <th>prizeAmountAdjusted</th>\n",
       "    </tr>\n",
       "  </thead>\n",
       "  <tbody>\n",
       "    <tr>\n",
       "      <th>0</th>\n",
       "      <td>167674</td>\n",
       "      <td>512891000</td>\n",
       "      <td>658373449</td>\n",
       "    </tr>\n",
       "    <tr>\n",
       "      <th>1</th>\n",
       "      <td>419837</td>\n",
       "      <td>725890928</td>\n",
       "      <td>1296526352</td>\n",
       "    </tr>\n",
       "    <tr>\n",
       "      <th>2</th>\n",
       "      <td>362912</td>\n",
       "      <td>667787418</td>\n",
       "      <td>1151447726</td>\n",
       "    </tr>\n",
       "    <tr>\n",
       "      <th>3</th>\n",
       "      <td>362912</td>\n",
       "      <td>667787418</td>\n",
       "      <td>1151447726</td>\n",
       "    </tr>\n",
       "    <tr>\n",
       "      <th>4</th>\n",
       "      <td>419837</td>\n",
       "      <td>725890928</td>\n",
       "      <td>1296526352</td>\n",
       "    </tr>\n",
       "    <tr>\n",
       "      <th>...</th>\n",
       "      <td>...</td>\n",
       "      <td>...</td>\n",
       "      <td>...</td>\n",
       "    </tr>\n",
       "    <tr>\n",
       "      <th>945</th>\n",
       "      <td>419837</td>\n",
       "      <td>725890928</td>\n",
       "      <td>1296526352</td>\n",
       "    </tr>\n",
       "    <tr>\n",
       "      <th>946</th>\n",
       "      <td>362912</td>\n",
       "      <td>667787418</td>\n",
       "      <td>1151447726</td>\n",
       "    </tr>\n",
       "    <tr>\n",
       "      <th>947</th>\n",
       "      <td>362912</td>\n",
       "      <td>667787418</td>\n",
       "      <td>1151447726</td>\n",
       "    </tr>\n",
       "    <tr>\n",
       "      <th>948</th>\n",
       "      <td>263248</td>\n",
       "      <td>418733807</td>\n",
       "      <td>825963521</td>\n",
       "    </tr>\n",
       "    <tr>\n",
       "      <th>949</th>\n",
       "      <td>263248</td>\n",
       "      <td>418733807</td>\n",
       "      <td>825963521</td>\n",
       "    </tr>\n",
       "  </tbody>\n",
       "</table>\n",
       "<p>950 rows × 3 columns</p>\n",
       "</div>"
      ],
      "text/plain": [
       "     awardYear  prizeAmount  prizeAmountAdjusted\n",
       "0       167674    512891000            658373449\n",
       "1       419837    725890928           1296526352\n",
       "2       362912    667787418           1151447726\n",
       "3       362912    667787418           1151447726\n",
       "4       419837    725890928           1296526352\n",
       "..         ...          ...                  ...\n",
       "945     419837    725890928           1296526352\n",
       "946     362912    667787418           1151447726\n",
       "947     362912    667787418           1151447726\n",
       "948     263248    418733807            825963521\n",
       "949     263248    418733807            825963521\n",
       "\n",
       "[950 rows x 3 columns]"
      ]
     },
     "execution_count": 140,
     "metadata": {},
     "output_type": "execute_result"
    }
   ],
   "source": [
    "nobel_df1.groupby(\"category\").transform(\"sum\")"
   ]
  },
  {
   "cell_type": "code",
   "execution_count": null,
   "metadata": {},
   "outputs": [],
   "source": []
  },
  {
   "cell_type": "code",
   "execution_count": null,
   "metadata": {},
   "outputs": [],
   "source": []
  },
  {
   "cell_type": "code",
   "execution_count": null,
   "metadata": {},
   "outputs": [],
   "source": []
  },
  {
   "cell_type": "code",
   "execution_count": null,
   "metadata": {},
   "outputs": [],
   "source": []
  },
  {
   "cell_type": "code",
   "execution_count": 143,
   "metadata": {},
   "outputs": [
    {
     "data": {
      "text/html": [
       "<div>\n",
       "<style scoped>\n",
       "    .dataframe tbody tr th:only-of-type {\n",
       "        vertical-align: middle;\n",
       "    }\n",
       "\n",
       "    .dataframe tbody tr th {\n",
       "        vertical-align: top;\n",
       "    }\n",
       "\n",
       "    .dataframe thead th {\n",
       "        text-align: right;\n",
       "    }\n",
       "</style>\n",
       "<table border=\"1\" class=\"dataframe\">\n",
       "  <thead>\n",
       "    <tr style=\"text-align: right;\">\n",
       "      <th></th>\n",
       "      <th>A</th>\n",
       "      <th>B</th>\n",
       "    </tr>\n",
       "  </thead>\n",
       "  <tbody>\n",
       "    <tr>\n",
       "      <th>0</th>\n",
       "      <td>0</td>\n",
       "      <td>1</td>\n",
       "    </tr>\n",
       "    <tr>\n",
       "      <th>1</th>\n",
       "      <td>1</td>\n",
       "      <td>2</td>\n",
       "    </tr>\n",
       "    <tr>\n",
       "      <th>2</th>\n",
       "      <td>2</td>\n",
       "      <td>3</td>\n",
       "    </tr>\n",
       "    <tr>\n",
       "      <th>3</th>\n",
       "      <td>3</td>\n",
       "      <td>4</td>\n",
       "    </tr>\n",
       "    <tr>\n",
       "      <th>4</th>\n",
       "      <td>4</td>\n",
       "      <td>5</td>\n",
       "    </tr>\n",
       "    <tr>\n",
       "      <th>5</th>\n",
       "      <td>5</td>\n",
       "      <td>6</td>\n",
       "    </tr>\n",
       "    <tr>\n",
       "      <th>6</th>\n",
       "      <td>6</td>\n",
       "      <td>7</td>\n",
       "    </tr>\n",
       "    <tr>\n",
       "      <th>7</th>\n",
       "      <td>7</td>\n",
       "      <td>8</td>\n",
       "    </tr>\n",
       "    <tr>\n",
       "      <th>8</th>\n",
       "      <td>8</td>\n",
       "      <td>9</td>\n",
       "    </tr>\n",
       "    <tr>\n",
       "      <th>9</th>\n",
       "      <td>9</td>\n",
       "      <td>10</td>\n",
       "    </tr>\n",
       "  </tbody>\n",
       "</table>\n",
       "</div>"
      ],
      "text/plain": [
       "   A   B\n",
       "0  0   1\n",
       "1  1   2\n",
       "2  2   3\n",
       "3  3   4\n",
       "4  4   5\n",
       "5  5   6\n",
       "6  6   7\n",
       "7  7   8\n",
       "8  8   9\n",
       "9  9  10"
      ]
     },
     "execution_count": 143,
     "metadata": {},
     "output_type": "execute_result"
    }
   ],
   "source": [
    "df = pd.DataFrame({'A': range(10), 'B': range(1, 11)})\n",
    "df\n"
   ]
  },
  {
   "cell_type": "code",
   "execution_count": 145,
   "metadata": {},
   "outputs": [
    {
     "data": {
      "text/html": [
       "<div>\n",
       "<style scoped>\n",
       "    .dataframe tbody tr th:only-of-type {\n",
       "        vertical-align: middle;\n",
       "    }\n",
       "\n",
       "    .dataframe tbody tr th {\n",
       "        vertical-align: top;\n",
       "    }\n",
       "\n",
       "    .dataframe thead th {\n",
       "        text-align: right;\n",
       "    }\n",
       "</style>\n",
       "<table border=\"1\" class=\"dataframe\">\n",
       "  <thead>\n",
       "    <tr style=\"text-align: right;\">\n",
       "      <th></th>\n",
       "      <th>B</th>\n",
       "    </tr>\n",
       "  </thead>\n",
       "  <tbody>\n",
       "    <tr>\n",
       "      <th>0</th>\n",
       "      <td>1</td>\n",
       "    </tr>\n",
       "    <tr>\n",
       "      <th>1</th>\n",
       "      <td>2</td>\n",
       "    </tr>\n",
       "    <tr>\n",
       "      <th>2</th>\n",
       "      <td>3</td>\n",
       "    </tr>\n",
       "    <tr>\n",
       "      <th>3</th>\n",
       "      <td>4</td>\n",
       "    </tr>\n",
       "    <tr>\n",
       "      <th>4</th>\n",
       "      <td>5</td>\n",
       "    </tr>\n",
       "    <tr>\n",
       "      <th>5</th>\n",
       "      <td>6</td>\n",
       "    </tr>\n",
       "    <tr>\n",
       "      <th>6</th>\n",
       "      <td>7</td>\n",
       "    </tr>\n",
       "    <tr>\n",
       "      <th>7</th>\n",
       "      <td>8</td>\n",
       "    </tr>\n",
       "    <tr>\n",
       "      <th>8</th>\n",
       "      <td>9</td>\n",
       "    </tr>\n",
       "    <tr>\n",
       "      <th>9</th>\n",
       "      <td>10</td>\n",
       "    </tr>\n",
       "  </tbody>\n",
       "</table>\n",
       "</div>"
      ],
      "text/plain": [
       "    B\n",
       "0   1\n",
       "1   2\n",
       "2   3\n",
       "3   4\n",
       "4   5\n",
       "5   6\n",
       "6   7\n",
       "7   8\n",
       "8   9\n",
       "9  10"
      ]
     },
     "execution_count": 145,
     "metadata": {},
     "output_type": "execute_result"
    }
   ],
   "source": []
  },
  {
   "cell_type": "code",
   "execution_count": 142,
   "metadata": {},
   "outputs": [
    {
     "data": {
      "text/plain": [
       "0     0\n",
       "1     5\n",
       "2    10\n",
       "3    15\n",
       "4    20\n",
       "5    25\n",
       "6    30\n",
       "7    35\n",
       "8    40\n",
       "9    45\n",
       "Name: A, dtype: int64"
      ]
     },
     "execution_count": 142,
     "metadata": {},
     "output_type": "execute_result"
    }
   ],
   "source": [
    "df['A'].transform(lambda x: x*5)\n"
   ]
  },
  {
   "cell_type": "code",
   "execution_count": 89,
   "metadata": {},
   "outputs": [
    {
     "data": {
      "text/html": [
       "<div>\n",
       "<style scoped>\n",
       "    .dataframe tbody tr th:only-of-type {\n",
       "        vertical-align: middle;\n",
       "    }\n",
       "\n",
       "    .dataframe tbody tr th {\n",
       "        vertical-align: top;\n",
       "    }\n",
       "\n",
       "    .dataframe thead th {\n",
       "        text-align: right;\n",
       "    }\n",
       "</style>\n",
       "<table border=\"1\" class=\"dataframe\">\n",
       "  <thead>\n",
       "    <tr style=\"text-align: right;\">\n",
       "      <th></th>\n",
       "      <th>sqrt</th>\n",
       "      <th>exp</th>\n",
       "    </tr>\n",
       "  </thead>\n",
       "  <tbody>\n",
       "    <tr>\n",
       "      <th>0</th>\n",
       "      <td>0.000000</td>\n",
       "      <td>1.000000</td>\n",
       "    </tr>\n",
       "    <tr>\n",
       "      <th>1</th>\n",
       "      <td>1.000000</td>\n",
       "      <td>2.718282</td>\n",
       "    </tr>\n",
       "    <tr>\n",
       "      <th>2</th>\n",
       "      <td>1.414214</td>\n",
       "      <td>7.389056</td>\n",
       "    </tr>\n",
       "    <tr>\n",
       "      <th>3</th>\n",
       "      <td>1.732051</td>\n",
       "      <td>20.085537</td>\n",
       "    </tr>\n",
       "    <tr>\n",
       "      <th>4</th>\n",
       "      <td>2.000000</td>\n",
       "      <td>54.598150</td>\n",
       "    </tr>\n",
       "    <tr>\n",
       "      <th>5</th>\n",
       "      <td>2.236068</td>\n",
       "      <td>148.413159</td>\n",
       "    </tr>\n",
       "    <tr>\n",
       "      <th>6</th>\n",
       "      <td>2.449490</td>\n",
       "      <td>403.428793</td>\n",
       "    </tr>\n",
       "    <tr>\n",
       "      <th>7</th>\n",
       "      <td>2.645751</td>\n",
       "      <td>1096.633158</td>\n",
       "    </tr>\n",
       "    <tr>\n",
       "      <th>8</th>\n",
       "      <td>2.828427</td>\n",
       "      <td>2980.957987</td>\n",
       "    </tr>\n",
       "    <tr>\n",
       "      <th>9</th>\n",
       "      <td>3.000000</td>\n",
       "      <td>8103.083928</td>\n",
       "    </tr>\n",
       "  </tbody>\n",
       "</table>\n",
       "</div>"
      ],
      "text/plain": [
       "       sqrt          exp\n",
       "0  0.000000     1.000000\n",
       "1  1.000000     2.718282\n",
       "2  1.414214     7.389056\n",
       "3  1.732051    20.085537\n",
       "4  2.000000    54.598150\n",
       "5  2.236068   148.413159\n",
       "6  2.449490   403.428793\n",
       "7  2.645751  1096.633158\n",
       "8  2.828427  2980.957987\n",
       "9  3.000000  8103.083928"
      ]
     },
     "execution_count": 89,
     "metadata": {},
     "output_type": "execute_result"
    }
   ],
   "source": [
    "df['A'].transform([np.sqrt, np.exp])"
   ]
  },
  {
   "cell_type": "code",
   "execution_count": 147,
   "metadata": {},
   "outputs": [],
   "source": [
    "df = pd.DataFrame({\n",
    "    \"Date\": [\n",
    "        \"2015-05-08\", \"2015-05-07\", \"2015-05-06\", \"2015-05-05\",\n",
    "        \"2015-05-08\", \"2015-05-07\", \"2015-05-06\", \"2015-05-05\"],\n",
    "    \"Data\": [5, 8, 6, 1, 50, 100, 60, 120],\n",
    "})"
   ]
  },
  {
   "cell_type": "code",
   "execution_count": 148,
   "metadata": {},
   "outputs": [
    {
     "data": {
      "text/html": [
       "<div>\n",
       "<style scoped>\n",
       "    .dataframe tbody tr th:only-of-type {\n",
       "        vertical-align: middle;\n",
       "    }\n",
       "\n",
       "    .dataframe tbody tr th {\n",
       "        vertical-align: top;\n",
       "    }\n",
       "\n",
       "    .dataframe thead th {\n",
       "        text-align: right;\n",
       "    }\n",
       "</style>\n",
       "<table border=\"1\" class=\"dataframe\">\n",
       "  <thead>\n",
       "    <tr style=\"text-align: right;\">\n",
       "      <th></th>\n",
       "      <th>Date</th>\n",
       "      <th>Data</th>\n",
       "    </tr>\n",
       "  </thead>\n",
       "  <tbody>\n",
       "    <tr>\n",
       "      <th>0</th>\n",
       "      <td>2015-05-08</td>\n",
       "      <td>5</td>\n",
       "    </tr>\n",
       "    <tr>\n",
       "      <th>1</th>\n",
       "      <td>2015-05-07</td>\n",
       "      <td>8</td>\n",
       "    </tr>\n",
       "    <tr>\n",
       "      <th>2</th>\n",
       "      <td>2015-05-06</td>\n",
       "      <td>6</td>\n",
       "    </tr>\n",
       "    <tr>\n",
       "      <th>3</th>\n",
       "      <td>2015-05-05</td>\n",
       "      <td>1</td>\n",
       "    </tr>\n",
       "    <tr>\n",
       "      <th>4</th>\n",
       "      <td>2015-05-08</td>\n",
       "      <td>50</td>\n",
       "    </tr>\n",
       "    <tr>\n",
       "      <th>5</th>\n",
       "      <td>2015-05-07</td>\n",
       "      <td>100</td>\n",
       "    </tr>\n",
       "    <tr>\n",
       "      <th>6</th>\n",
       "      <td>2015-05-06</td>\n",
       "      <td>60</td>\n",
       "    </tr>\n",
       "    <tr>\n",
       "      <th>7</th>\n",
       "      <td>2015-05-05</td>\n",
       "      <td>120</td>\n",
       "    </tr>\n",
       "  </tbody>\n",
       "</table>\n",
       "</div>"
      ],
      "text/plain": [
       "         Date  Data\n",
       "0  2015-05-08     5\n",
       "1  2015-05-07     8\n",
       "2  2015-05-06     6\n",
       "3  2015-05-05     1\n",
       "4  2015-05-08    50\n",
       "5  2015-05-07   100\n",
       "6  2015-05-06    60\n",
       "7  2015-05-05   120"
      ]
     },
     "execution_count": 148,
     "metadata": {},
     "output_type": "execute_result"
    }
   ],
   "source": [
    "df"
   ]
  },
  {
   "cell_type": "code",
   "execution_count": 95,
   "metadata": {},
   "outputs": [
    {
     "data": {
      "text/plain": [
       "0     55\n",
       "1    108\n",
       "2     66\n",
       "3    121\n",
       "4     55\n",
       "5    108\n",
       "6     66\n",
       "7    121\n",
       "Name: Data, dtype: int64"
      ]
     },
     "execution_count": 95,
     "metadata": {},
     "output_type": "execute_result"
    }
   ],
   "source": [
    "df.groupby('Date')['Data'].transform('sum')"
   ]
  },
  {
   "cell_type": "code",
   "execution_count": 96,
   "metadata": {},
   "outputs": [],
   "source": [
    "df = pd.DataFrame({\n",
    "    \"c\": [1, 1, 1, 2, 2, 2, 2], \n",
    "    \"type\": [\"m\", \"n\", \"o\", \"m\", \"m\", \"n\", \"n\"] \n",
    "    })"
   ]
  },
  {
   "cell_type": "code",
   "execution_count": 107,
   "metadata": {},
   "outputs": [
    {
     "data": {
      "text/plain": [
       "0    3\n",
       "1    3\n",
       "2    3\n",
       "3    4\n",
       "4    4\n",
       "5    4\n",
       "6    4\n",
       "Name: type, dtype: int64"
      ]
     },
     "execution_count": 107,
     "metadata": {},
     "output_type": "execute_result"
    }
   ],
   "source": [
    "df.groupby(\"c\")[\"type\"].transform('size')"
   ]
  },
  {
   "cell_type": "code",
   "execution_count": 108,
   "metadata": {},
   "outputs": [
    {
     "data": {
      "text/plain": [
       "2"
      ]
     },
     "execution_count": 108,
     "metadata": {},
     "output_type": "execute_result"
    }
   ],
   "source": [
    "df.groupby(\"c\").ngroups"
   ]
  },
  {
   "cell_type": "code",
   "execution_count": 129,
   "metadata": {},
   "outputs": [
    {
     "data": {
      "text/html": [
       "<div>\n",
       "<style scoped>\n",
       "    .dataframe tbody tr th:only-of-type {\n",
       "        vertical-align: middle;\n",
       "    }\n",
       "\n",
       "    .dataframe tbody tr th {\n",
       "        vertical-align: top;\n",
       "    }\n",
       "\n",
       "    .dataframe thead th {\n",
       "        text-align: right;\n",
       "    }\n",
       "</style>\n",
       "<table border=\"1\" class=\"dataframe\">\n",
       "  <thead>\n",
       "    <tr style=\"text-align: right;\">\n",
       "      <th></th>\n",
       "      <th>a</th>\n",
       "      <th>b</th>\n",
       "      <th>c</th>\n",
       "    </tr>\n",
       "  </thead>\n",
       "  <tbody>\n",
       "    <tr>\n",
       "      <th>0</th>\n",
       "      <td>0</td>\n",
       "      <td>1.0</td>\n",
       "      <td>-0.174680</td>\n",
       "    </tr>\n",
       "    <tr>\n",
       "      <th>1</th>\n",
       "      <td>0</td>\n",
       "      <td>2.0</td>\n",
       "      <td>-0.951586</td>\n",
       "    </tr>\n",
       "    <tr>\n",
       "      <th>2</th>\n",
       "      <td>1</td>\n",
       "      <td>3.0</td>\n",
       "      <td>0.129075</td>\n",
       "    </tr>\n",
       "    <tr>\n",
       "      <th>3</th>\n",
       "      <td>2</td>\n",
       "      <td>4.0</td>\n",
       "      <td>-0.652067</td>\n",
       "    </tr>\n",
       "    <tr>\n",
       "      <th>4</th>\n",
       "      <td>2</td>\n",
       "      <td>NaN</td>\n",
       "      <td>-1.157336</td>\n",
       "    </tr>\n",
       "    <tr>\n",
       "      <th>5</th>\n",
       "      <td>2</td>\n",
       "      <td>4.0</td>\n",
       "      <td>1.574004</td>\n",
       "    </tr>\n",
       "  </tbody>\n",
       "</table>\n",
       "</div>"
      ],
      "text/plain": [
       "   a    b         c\n",
       "0  0  1.0 -0.174680\n",
       "1  0  2.0 -0.951586\n",
       "2  1  3.0  0.129075\n",
       "3  2  4.0 -0.652067\n",
       "4  2  NaN -1.157336\n",
       "5  2  4.0  1.574004"
      ]
     },
     "execution_count": 129,
     "metadata": {},
     "output_type": "execute_result"
    }
   ],
   "source": [
    "df = pd.DataFrame({'a':[0,0,1,2,2,2], 'b':[1,2,3,4,np.NaN,4], 'c':np.random.randn(6)})\n",
    "df"
   ]
  },
  {
   "cell_type": "markdown",
   "metadata": {},
   "source": [
    "\n",
    "#### What is the difference between size and count in pandas?\n",
    "The other answers have pointed out the difference, however, it is not completely accurate to say \"size counts NaNs while count does not\". While size does indeed count NaNs, this is actually a consequence of the fact that size returns the size (or the length) of the object it is called on. Naturally, this also includes rows/values which are NaN."
   ]
  },
  {
   "cell_type": "code",
   "execution_count": 131,
   "metadata": {},
   "outputs": [
    {
     "data": {
      "text/plain": [
       "a\n",
       "0    2\n",
       "1    1\n",
       "2    2\n",
       "Name: b, dtype: int64"
      ]
     },
     "execution_count": 131,
     "metadata": {},
     "output_type": "execute_result"
    }
   ],
   "source": [
    "df.groupby([\"a\"])[\"b\"].count()"
   ]
  },
  {
   "cell_type": "code",
   "execution_count": 132,
   "metadata": {},
   "outputs": [
    {
     "data": {
      "text/plain": [
       "a\n",
       "0    2\n",
       "1    1\n",
       "2    3\n",
       "Name: b, dtype: int64"
      ]
     },
     "execution_count": 132,
     "metadata": {},
     "output_type": "execute_result"
    }
   ],
   "source": [
    "df.groupby(\"a\")[\"b\"].size()"
   ]
  },
  {
   "cell_type": "code",
   "execution_count": null,
   "metadata": {},
   "outputs": [],
   "source": []
  },
  {
   "cell_type": "code",
   "execution_count": null,
   "metadata": {},
   "outputs": [],
   "source": []
  }
 ],
 "metadata": {
  "kernelspec": {
   "display_name": "conda-base-env",
   "language": "python",
   "name": "base"
  },
  "language_info": {
   "codemirror_mode": {
    "name": "ipython",
    "version": 3
   },
   "file_extension": ".py",
   "mimetype": "text/x-python",
   "name": "python",
   "nbconvert_exporter": "python",
   "pygments_lexer": "ipython3",
   "version": "3.10.13"
  }
 },
 "nbformat": 4,
 "nbformat_minor": 2
}
